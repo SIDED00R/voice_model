{
 "cells": [
  {
   "cell_type": "code",
   "execution_count": 1,
   "id": "9426c170-50be-42c4-b7c2-e6e8ac040687",
   "metadata": {},
   "outputs": [
    {
     "data": {
      "text/plain": [
       "<librosa.display.AdaptiveWaveplot at 0x7fa478233070>"
      ]
     },
     "execution_count": 1,
     "metadata": {},
     "output_type": "execute_result"
    },
    {
     "data": {
      "image/png": "[encoded data removed]",
      "text/plain": [
       "<Figure size 640x480 with 1 Axes>"
      ]
     },
     "metadata": {},
     "output_type": "display_data"
    }
   ],
   "source": [
    "import librosa\n",
    "import matplotlib.pyplot as plt\n",
    "\n",
    "f = 'mnt/gcs-bucket/data/F2001/F2001_000001.wav'\n",
    "y, sr = librosa.load(f)\n",
    "\n",
    "librosa.display.waveshow(y, sr=sr)"
   ]
  },
  {
   "cell_type": "markdown",
   "id": "32321ea6-99d6-45c7-a988-27ff48a7c0cf",
   "metadata": {},
   "source": [
    "echo \"deb http://packages.cloud.google.com/apt gcsfuse-$(lsb_release -c -s) main\" | sudo tee /etc/apt/sources.list.d/gcsfuse.list\n",
    "curl https://packages.cloud.google.com/apt/doc/apt-key.gpg | sudo apt-key add -\n",
    "sudo apt update\n",
    "sudo apt install gcsfuse\n",
    "sudo gcsfuse -o allow_other --implicit-dirs voicemodel mnt/gcs-bucket\n"
   ]
  },
  {
   "cell_type": "code",
   "execution_count": 2,
   "id": "43879cd7-eb77-4f63-a672-5d9c9b532ede",
   "metadata": {},
   "outputs": [
    {
     "name": "stdout",
     "output_type": "stream",
     "text": [
      "GPU is available\n",
      "GPU device name: Tesla T4\n"
     ]
    }
   ],
   "source": [
    "import torch\n",
    "\n",
    "if torch.cuda.is_available():\n",
    "    print(\"GPU is available\")\n",
    "    print(f\"GPU device name: {torch.cuda.get_device_name(0)}\")\n",
    "else:\n",
    "    print(\"GPU is not available\")"
   ]
  },
  {
   "cell_type": "code",
   "execution_count": null,
   "id": "bb27789d-39ae-4d2c-893a-aa9f4cf04559",
   "metadata": {
    "scrolled": true
   },
   "outputs": [
    {
     "name": "stdout",
     "output_type": "stream",
     "text": [
      "Training on subset 1/36\n"
     ]
    },
    {
     "name": "stderr",
     "output_type": "stream",
     "text": [
      "Some weights of HubertForSequenceClassification were not initialized from the model checkpoint at superb/hubert-base-superb-er and are newly initialized because the shapes did not match:\n",
      "- classifier.weight: found shape torch.Size([4, 256]) in the checkpoint and torch.Size([6, 256]) in the model instantiated\n",
      "- classifier.bias: found shape torch.Size([4]) in the checkpoint and torch.Size([6]) in the model instantiated\n",
      "You should probably TRAIN this model on a down-stream task to be able to use it for predictions and inference.\n",
      "/home/mywinningtime/myenv/lib/python3.10/site-packages/transformers/training_args.py:1545: FutureWarning: `evaluation_strategy` is deprecated and will be removed in version 4.46 of 🤗 Transformers. Use `eval_strategy` instead\n",
      "  warnings.warn(\n",
      "/home/mywinningtime/myenv/lib/python3.10/site-packages/torch/nn/parallel/_functions.py:71: UserWarning: Was asked to gather along dimension 0, but all input tensors were scalars; will instead unsqueeze and return a vector.\n",
      "  warnings.warn(\n"
     ]
    },
    {
     "data": {
      "text/html": [
       "\n",
       "    <div>\n",
       "      \n",
       "      <progress value='126' max='126' style='width:300px; height:20px; vertical-align: middle;'></progress>\n",
       "      [126/126 05:00, Epoch 3/3]\n",
       "    </div>\n",
       "    <table border=\"1\" class=\"dataframe\">\n",
       "  <thead>\n",
       " <tr style=\"text-align: left;\">\n",
       "      <th>Epoch</th>\n",
       "      <th>Training Loss</th>\n",
       "      <th>Validation Loss</th>\n",
       "      <th>Accuracy</th>\n",
       "    </tr>\n",
       "  </thead>\n",
       "  <tbody>\n",
       "    <tr>\n",
       "      <td>1</td>\n",
       "      <td>No log</td>\n",
       "      <td>1.768439</td>\n",
       "      <td>0.235294</td>\n",
       "    </tr>\n",
       "    <tr>\n",
       "      <td>2</td>\n",
       "      <td>No log</td>\n",
       "      <td>1.724142</td>\n",
       "      <td>0.270588</td>\n",
       "    </tr>\n",
       "    <tr>\n",
       "      <td>3</td>\n",
       "      <td>No log</td>\n",
       "      <td>1.701403</td>\n",
       "      <td>0.264706</td>\n",
       "    </tr>\n",
       "  </tbody>\n",
       "</table><p>"
      ],
      "text/plain": [
       "<IPython.core.display.HTML object>"
      ]
     },
     "metadata": {},
     "output_type": "display_data"
    },
    {
     "name": "stderr",
     "output_type": "stream",
     "text": [
      "/home/mywinningtime/myenv/lib/python3.10/site-packages/torch/nn/parallel/_functions.py:71: UserWarning: Was asked to gather along dimension 0, but all input tensors were scalars; will instead unsqueeze and return a vector.\n",
      "  warnings.warn(\n",
      "/home/mywinningtime/myenv/lib/python3.10/site-packages/torch/nn/parallel/_functions.py:71: UserWarning: Was asked to gather along dimension 0, but all input tensors were scalars; will instead unsqueeze and return a vector.\n",
      "  warnings.warn(\n",
      "/home/mywinningtime/myenv/lib/python3.10/site-packages/torch/nn/parallel/_functions.py:71: UserWarning: Was asked to gather along dimension 0, but all input tensors were scalars; will instead unsqueeze and return a vector.\n",
      "  warnings.warn(\n",
      "/home/mywinningtime/myenv/lib/python3.10/site-packages/torch/nn/parallel/_functions.py:71: UserWarning: Was asked to gather along dimension 0, but all input tensors were scalars; will instead unsqueeze and return a vector.\n",
      "  warnings.warn(\n"
     ]
    },
    {
     "data": {
      "text/html": [
       "\n",
       "    <div>\n",
       "      \n",
       "      <progress value='11' max='11' style='width:300px; height:20px; vertical-align: middle;'></progress>\n",
       "      [11/11 00:05]\n",
       "    </div>\n",
       "    "
      ],
      "text/plain": [
       "<IPython.core.display.HTML object>"
      ]
     },
     "metadata": {},
     "output_type": "display_data"
    },
    {
     "name": "stdout",
     "output_type": "stream",
     "text": [
      "Test Results for subset 1: {'eval_loss': 1.7241419553756714, 'eval_accuracy': 0.27058823529411763, 'eval_runtime': 9.9027, 'eval_samples_per_second': 17.167, 'eval_steps_per_second': 1.111, 'epoch': 3.0}\n",
      "Training on subset 2/36\n"
     ]
    },
    {
     "name": "stderr",
     "output_type": "stream",
     "text": [
      "Some weights of HubertForSequenceClassification were not initialized from the model checkpoint at superb/hubert-base-superb-er and are newly initialized because the shapes did not match:\n",
      "- classifier.weight: found shape torch.Size([4, 256]) in the checkpoint and torch.Size([6, 256]) in the model instantiated\n",
      "- classifier.bias: found shape torch.Size([4]) in the checkpoint and torch.Size([6]) in the model instantiated\n",
      "You should probably TRAIN this model on a down-stream task to be able to use it for predictions and inference.\n",
      "/home/mywinningtime/myenv/lib/python3.10/site-packages/transformers/training_args.py:1545: FutureWarning: `evaluation_strategy` is deprecated and will be removed in version 4.46 of 🤗 Transformers. Use `eval_strategy` instead\n",
      "  warnings.warn(\n",
      "/home/mywinningtime/myenv/lib/python3.10/site-packages/torch/nn/parallel/_functions.py:71: UserWarning: Was asked to gather along dimension 0, but all input tensors were scalars; will instead unsqueeze and return a vector.\n",
      "  warnings.warn(\n"
     ]
    },
    {
     "data": {
      "text/html": [
       "\n",
       "    <div>\n",
       "      \n",
       "      <progress value='126' max='126' style='width:300px; height:20px; vertical-align: middle;'></progress>\n",
       "      [126/126 05:13, Epoch 3/3]\n",
       "    </div>\n",
       "    <table border=\"1\" class=\"dataframe\">\n",
       "  <thead>\n",
       " <tr style=\"text-align: left;\">\n",
       "      <th>Epoch</th>\n",
       "      <th>Training Loss</th>\n",
       "      <th>Validation Loss</th>\n",
       "      <th>Accuracy</th>\n",
       "    </tr>\n",
       "  </thead>\n",
       "  <tbody>\n",
       "    <tr>\n",
       "      <td>1</td>\n",
       "      <td>No log</td>\n",
       "      <td>1.774639</td>\n",
       "      <td>0.352941</td>\n",
       "    </tr>\n",
       "    <tr>\n",
       "      <td>2</td>\n",
       "      <td>No log</td>\n",
       "      <td>1.739252</td>\n",
       "      <td>0.352941</td>\n",
       "    </tr>\n",
       "    <tr>\n",
       "      <td>3</td>\n",
       "      <td>No log</td>\n",
       "      <td>1.746170</td>\n",
       "      <td>0.276471</td>\n",
       "    </tr>\n",
       "  </tbody>\n",
       "</table><p>"
      ],
      "text/plain": [
       "<IPython.core.display.HTML object>"
      ]
     },
     "metadata": {},
     "output_type": "display_data"
    },
    {
     "name": "stderr",
     "output_type": "stream",
     "text": [
      "/home/mywinningtime/myenv/lib/python3.10/site-packages/torch/nn/parallel/_functions.py:71: UserWarning: Was asked to gather along dimension 0, but all input tensors were scalars; will instead unsqueeze and return a vector.\n",
      "  warnings.warn(\n",
      "/home/mywinningtime/myenv/lib/python3.10/site-packages/torch/nn/parallel/_functions.py:71: UserWarning: Was asked to gather along dimension 0, but all input tensors were scalars; will instead unsqueeze and return a vector.\n",
      "  warnings.warn(\n",
      "/home/mywinningtime/myenv/lib/python3.10/site-packages/torch/nn/parallel/_functions.py:71: UserWarning: Was asked to gather along dimension 0, but all input tensors were scalars; will instead unsqueeze and return a vector.\n",
      "  warnings.warn(\n",
      "/home/mywinningtime/myenv/lib/python3.10/site-packages/torch/nn/parallel/_functions.py:71: UserWarning: Was asked to gather along dimension 0, but all input tensors were scalars; will instead unsqueeze and return a vector.\n",
      "  warnings.warn(\n"
     ]
    },
    {
     "data": {
      "text/html": [
       "\n",
       "    <div>\n",
       "      \n",
       "      <progress value='11' max='11' style='width:300px; height:20px; vertical-align: middle;'></progress>\n",
       "      [11/11 00:04]\n",
       "    </div>\n",
       "    "
      ],
      "text/plain": [
       "<IPython.core.display.HTML object>"
      ]
     },
     "metadata": {},
     "output_type": "display_data"
    },
    {
     "name": "stdout",
     "output_type": "stream",
     "text": [
      "Test Results for subset 2: {'eval_loss': 1.7746394872665405, 'eval_accuracy': 0.35294117647058826, 'eval_runtime': 8.4535, 'eval_samples_per_second': 20.11, 'eval_steps_per_second': 1.301, 'epoch': 3.0}\n",
      "Training on subset 3/36\n"
     ]
    },
    {
     "name": "stderr",
     "output_type": "stream",
     "text": [
      "Some weights of HubertForSequenceClassification were not initialized from the model checkpoint at superb/hubert-base-superb-er and are newly initialized because the shapes did not match:\n",
      "- classifier.weight: found shape torch.Size([4, 256]) in the checkpoint and torch.Size([6, 256]) in the model instantiated\n",
      "- classifier.bias: found shape torch.Size([4]) in the checkpoint and torch.Size([6]) in the model instantiated\n",
      "You should probably TRAIN this model on a down-stream task to be able to use it for predictions and inference.\n",
      "/home/mywinningtime/myenv/lib/python3.10/site-packages/transformers/training_args.py:1545: FutureWarning: `evaluation_strategy` is deprecated and will be removed in version 4.46 of 🤗 Transformers. Use `eval_strategy` instead\n",
      "  warnings.warn(\n",
      "/home/mywinningtime/myenv/lib/python3.10/site-packages/torch/nn/parallel/_functions.py:71: UserWarning: Was asked to gather along dimension 0, but all input tensors were scalars; will instead unsqueeze and return a vector.\n",
      "  warnings.warn(\n"
     ]
    },
    {
     "data": {
      "text/html": [
       "\n",
       "    <div>\n",
       "      \n",
       "      <progress value='19' max='126' style='width:300px; height:20px; vertical-align: middle;'></progress>\n",
       "      [ 19/126 01:00 < 06:23, 0.28 it/s, Epoch 0.43/3]\n",
       "    </div>\n",
       "    <table border=\"1\" class=\"dataframe\">\n",
       "  <thead>\n",
       " <tr style=\"text-align: left;\">\n",
       "      <th>Epoch</th>\n",
       "      <th>Training Loss</th>\n",
       "      <th>Validation Loss</th>\n",
       "    </tr>\n",
       "  </thead>\n",
       "  <tbody>\n",
       "  </tbody>\n",
       "</table><p>"
      ],
      "text/plain": [
       "<IPython.core.display.HTML object>"
      ]
     },
     "metadata": {},
     "output_type": "display_data"
    }
   ],
   "source": [
    "import os\n",
    "import torch\n",
    "import soundfile as sf\n",
    "import librosa\n",
    "import pandas as pd\n",
    "from transformers import HubertForSequenceClassification, Wav2Vec2Processor, Trainer, TrainingArguments\n",
    "from transformers import HubertForSequenceClassification, Wav2Vec2FeatureExtractor\n",
    "from torch.nn.utils.rnn import pad_sequence\n",
    "from torch.utils.data import DataLoader, Dataset\n",
    "from sklearn.metrics import accuracy_score\n",
    "from sklearn.model_selection import train_test_split\n",
    "\n",
    "import warnings\n",
    "warnings.filterwarnings(\"ignore\")  # 모든 경고 숨기기\n",
    "\n",
    "# Helper function to split dataset into smaller batches\n",
    "def split_dataset(dataset, num_splits):\n",
    "    split_size = len(dataset) // num_splits\n",
    "    splits = [torch.utils.data.Subset(dataset, list(range(i * split_size, (i + 1) * split_size))) for i in range(num_splits)]\n",
    "    remainder = len(dataset) % num_splits\n",
    "    if remainder:\n",
    "        splits[-1] = torch.utils.data.ConcatDataset([splits[-1], torch.utils.data.Subset(dataset, list(range(num_splits * split_size, len(dataset))))])\n",
    "    return splits\n",
    "\n",
    "torch.cuda.empty_cache()\n",
    "\n",
    "# 1. CSV 파일 로드 및 전처리 (None 값 제거)\n",
    "csv_file_path = '/home/mywinningtime/labeling.csv'\n",
    "df = pd.read_csv(csv_file_path).dropna(subset=['감정'])  # None 값 제거\n",
    "\n",
    "# 감정 레이블 정의 및 매핑\n",
    "emotion_labels = df['감정'].unique().tolist()\n",
    "label2id = {str(emotion): int(i) for i, emotion in enumerate(emotion_labels)}\n",
    "id2label = {int(i): str(emotion) for i, emotion in enumerate(emotion_labels)}\n",
    "\n",
    "# 2. 음성 파일 로드 함수 정의\n",
    "def load_audio(file_path):\n",
    "    if not os.path.exists(file_path):\n",
    "        raise FileNotFoundError(f\"File not found: {file_path}\")\n",
    "\n",
    "    speech, rate = sf.read(file_path)\n",
    "    if rate != 16000:  # 16000Hz로 리샘플링\n",
    "        speech = librosa.resample(speech, orig_sr=rate, target_sr=16000)\n",
    "    return speech\n",
    "\n",
    "# 3. SpeechDataset 클래스 정의\n",
    "class SpeechDataset(Dataset):\n",
    "    def __init__(self, df, base_directory, folders):\n",
    "        self.base_directory = base_directory\n",
    "        self.folders = folders\n",
    "\n",
    "        # 모든 폴더를 탐색하며 CSV 파일 정보와 매칭\n",
    "        self.data = []\n",
    "        for folder_name in folders:\n",
    "            folder_path = os.path.join(base_directory, folder_name)\n",
    "            for file_name in os.listdir(folder_path):\n",
    "                if file_name.endswith(\".wav\"):\n",
    "                    # 파일명에서 숫자 부분 추출 (예: M2001_000001.wav -> 000001)\n",
    "                    file_number = int(file_name.split('_')[-1].replace(\".wav\", \"\"))\n",
    "                    \n",
    "                    # CSV 파일에서 '연번' 열과 일치하는 행 찾기\n",
    "                    matching_rows = df[df['연번'] == file_number]\n",
    "                    if not matching_rows.empty:\n",
    "                        emotion = matching_rows.iloc[0]['감정']\n",
    "                        label = label2id[emotion]\n",
    "                        \n",
    "                        # 데이터 리스트에 경로와 레이블 추가\n",
    "                        self.data.append({\n",
    "                            'file_path': os.path.join(folder_path, file_name),\n",
    "                            'label': label\n",
    "                        })\n",
    "\n",
    "    def __len__(self):\n",
    "        return len(self.data)\n",
    "\n",
    "    def __getitem__(self, idx):\n",
    "        # 파일 경로와 레이블 가져오기\n",
    "        file_path = self.data[idx]['file_path']\n",
    "        label = self.data[idx]['label']\n",
    "\n",
    "        # 음성 파일 로드 및 전처리\n",
    "        speech = load_audio(file_path)\n",
    "        inputs = feature_extractor(speech, sampling_rate=16000, return_tensors=\"pt\", padding=True)\n",
    "\n",
    "        return {\n",
    "            \"input_values\": inputs.input_values[0],\n",
    "            \"attention_mask\": inputs.attention_mask[0] if \"attention_mask\" in inputs else None,\n",
    "            \"labels\": torch.tensor(label, dtype=torch.long),\n",
    "        }\n",
    "\n",
    "# 4. collate_fn 정의: 배치 생성 시 입력을 동일한 길이로 패딩\n",
    "def collate_fn(batch):\n",
    "    input_values = [item[\"input_values\"] for item in batch]\n",
    "    labels = torch.tensor([item[\"labels\"] for item in batch], dtype=torch.long)\n",
    "    input_values_padded = pad_sequence(input_values, batch_first=True, padding_value=0.0)\n",
    "    attention_mask = (input_values_padded != 0).long()\n",
    "\n",
    "    return {\n",
    "        \"input_values\": input_values_padded,\n",
    "        \"attention_mask\": attention_mask,\n",
    "        \"labels\": labels,\n",
    "    }\n",
    "\n",
    "# 5. 평가 메트릭 함수 정의\n",
    "def compute_metrics(pred):\n",
    "    # predictions가 튜플로 반환되면 첫 번째 요소(logits)만 사용\n",
    "    logits = pred.predictions[0] if isinstance(pred.predictions, tuple) else pred.predictions\n",
    "    preds = logits.argmax(-1)  # 가장 높은 로짓 값의 인덱스가 예측 값\n",
    "    acc = accuracy_score(pred.label_ids, preds)  # 정확도 계산\n",
    "    return {\"accuracy\": acc}\n",
    "    \n",
    "# 6. 데이터셋 및 DataLoader 준비\n",
    "audio_directory = \"mnt/gcs-bucket/data/\"\n",
    "\n",
    "# 모든 M으로 시작하는 폴더 가져오기\n",
    "def get_folders_with_prefix(base_directory, prefix=\"M\"):\n",
    "    folders = [\n",
    "        folder for folder in os.listdir(base_directory) \n",
    "        if os.path.isdir(os.path.join(base_directory, folder)) and folder.startswith(prefix)\n",
    "    ]\n",
    "    return sorted(folders)  # 정렬된 순서로 반환\n",
    "\n",
    "all_folders = get_folders_with_prefix(audio_directory)\n",
    "\n",
    "# Train/Test 분할 (80%: Train, 20%: Test)\n",
    "train_folders, test_folders = train_test_split(all_folders, test_size=0.2, random_state=42)\n",
    "\n",
    "train_dataset = SpeechDataset(df, audio_directory, train_folders)\n",
    "test_dataset = SpeechDataset(df, audio_directory, test_folders)\n",
    "\n",
    "# Train/Test 데이터셋을 24개로 분할\n",
    "train_subsets = split_dataset(train_dataset, 36)\n",
    "test_subsets = split_dataset(test_dataset, 36)\n",
    "\n",
    "# 각 Train/Test 서브셋에 대해 학습 및 평가 진행\n",
    "for i, (train_subset, test_subset) in enumerate(zip(train_subsets, test_subsets)):\n",
    "    torch.cuda.empty_cache()\n",
    "    print(f\"Training on subset {i + 1}/36\")\n",
    "    train_loader = DataLoader(train_subset, batch_size=8, collate_fn=collate_fn, shuffle=True)\n",
    "    test_loader = DataLoader(test_subset, batch_size=8, collate_fn=collate_fn)\n",
    "\n",
    "    # 모델 및 프로세서 설정 (hubert-base-superb-er 사용)\n",
    "    model = HubertForSequenceClassification.from_pretrained(\n",
    "        \"superb/hubert-base-superb-er\",\n",
    "        num_labels=len(emotion_labels),  # 6개 클래스 (현재 CSV의 클래스 개수에 맞춰 조정)\n",
    "        label2id=label2id,\n",
    "        id2label=id2label,\n",
    "        problem_type=\"single_label_classification\",\n",
    "        ignore_mismatched_sizes=True  # 크기 불일치 무시\n",
    "    )\n",
    "\n",
    "    feature_extractor = Wav2Vec2FeatureExtractor.from_pretrained(\"superb/hubert-base-superb-er\")\n",
    "\n",
    "    # 훈련 설정\n",
    "    training_args = TrainingArguments(\n",
    "        output_dir=f\"./results/subset_{i+1}\",\n",
    "        evaluation_strategy=\"epoch\",\n",
    "        save_strategy=\"epoch\",\n",
    "        learning_rate=2e-5,\n",
    "        per_device_train_batch_size=8,  # 배치 크기 조정\n",
    "        per_device_eval_batch_size=8,\n",
    "        num_train_epochs=3,\n",
    "        save_total_limit=2,\n",
    "        load_best_model_at_end=True,\n",
    "        metric_for_best_model=\"accuracy\",\n",
    "        greater_is_better=True,\n",
    "        gradient_accumulation_steps=1,  # 그라디언트 누적 단계 설정 감소\n",
    "        fp16=True \n",
    "    )\n",
    "\n",
    "    # Trainer 설정\n",
    "    trainer = Trainer(\n",
    "        model=model,\n",
    "        args=training_args,\n",
    "        train_dataset=train_subset,\n",
    "        eval_dataset=test_subset,\n",
    "        tokenizer=feature_extractor,\n",
    "        data_collator=collate_fn,\n",
    "        compute_metrics=compute_metrics,\n",
    "    )\n",
    "\n",
    "    # 모델 학습\n",
    "    trainer.train()\n",
    "\n",
    "    # 테스트 평가\n",
    "    results = trainer.evaluate()\n",
    "    print(f\"Test Results for subset {i + 1}: {results}\")\n",
    "    \n"
   ]
  },
  {
   "cell_type": "code",
   "execution_count": null,
   "id": "046749ed-5c13-41c6-91cc-582f7afe649d",
   "metadata": {},
   "outputs": [],
   "source": []
  }
 ],
 "metadata": {
  "kernelspec": {
   "display_name": "Python 3 (ipykernel)",
   "language": "python",
   "name": "python3"
  },
  "language_info": {
   "codemirror_mode": {
    "name": "ipython",
    "version": 3
   },
   "file_extension": ".py",
   "mimetype": "text/x-python",
   "name": "python",
   "nbconvert_exporter": "python",
   "pygments_lexer": "ipython3",
   "version": "3.10.12"
  }
 },
 "nbformat": 4,
 "nbformat_minor": 5
}
